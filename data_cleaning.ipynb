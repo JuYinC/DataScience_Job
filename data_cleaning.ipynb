{
 "cells": [
  {
   "cell_type": "code",
   "execution_count": null,
   "metadata": {},
   "outputs": [],
   "source": [
    "# work with ChatGPT\n",
    "# combine all file into one\n",
    "# clean company name without rating\n",
    "# salary parsing\n",
    "# state / country field\n",
    "# age of company\n",
    "# parsing of JD"
   ]
  }
 ],
 "metadata": {
  "language_info": {
   "name": "python"
  },
  "orig_nbformat": 4
 },
 "nbformat": 4,
 "nbformat_minor": 2
}
